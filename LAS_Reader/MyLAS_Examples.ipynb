{
 "cells": [
  {
   "cell_type": "markdown",
   "metadata": {},
   "source": [
    "Importing the script"
   ]
  },
  {
   "cell_type": "code",
   "execution_count": 1,
   "metadata": {},
   "outputs": [],
   "source": [
    "import numpy as np\n",
    "import MyLAS as ml"
   ]
  },
  {
   "cell_type": "markdown",
   "metadata": {},
   "source": [
    "Reading a file into a variable"
   ]
  },
  {
   "cell_type": "code",
   "execution_count": 2,
   "metadata": {},
   "outputs": [],
   "source": [
    "well = ml.Well(\"Example.LAS\")"
   ]
  },
  {
   "cell_type": "markdown",
   "metadata": {},
   "source": [
    "Printing LAS version and Wrap info."
   ]
  },
  {
   "cell_type": "code",
   "execution_count": 3,
   "metadata": {},
   "outputs": [
    {
     "name": "stdout",
     "output_type": "stream",
     "text": [
      "2.0\n",
      "None\n"
     ]
    }
   ],
   "source": [
    "print(well.LASVersion)\n",
    "print(well.Wrap)"
   ]
  },
  {
   "cell_type": "markdown",
   "metadata": {},
   "source": [
    "Printing Unique Well Identifier"
   ]
  },
  {
   "cell_type": "code",
   "execution_count": 4,
   "metadata": {},
   "outputs": [
    {
     "name": "stdout",
     "output_type": "stream",
     "text": [
      "Mnemonic = UWI \n",
      "Unit = none \n",
      "Data = 100123401234W500 \n",
      "Desription = UNIQUE WELL ID\n"
     ]
    }
   ],
   "source": [
    "print(well.WellInfo.UWI)"
   ]
  },
  {
   "cell_type": "markdown",
   "metadata": {},
   "source": [
    "Print Well info header for \"STRT\" mnemonic"
   ]
  },
  {
   "cell_type": "code",
   "execution_count": 5,
   "metadata": {},
   "outputs": [
    {
     "name": "stdout",
     "output_type": "stream",
     "text": [
      "Mnemonic = STRT \n",
      "Unit = M \n",
      "Data = 635.0 \n",
      "Desription = START DEPTH\n"
     ]
    }
   ],
   "source": [
    "print(well.WellInfo.STRT)"
   ]
  },
  {
   "cell_type": "markdown",
   "metadata": {},
   "source": [
    "Printing Well Info NULL Data"
   ]
  },
  {
   "cell_type": "code",
   "execution_count": 6,
   "metadata": {},
   "outputs": [
    {
     "name": "stdout",
     "output_type": "stream",
     "text": [
      "-999.25\n"
     ]
    }
   ],
   "source": [
    "print(well.WellInfo.NULL.Data)"
   ]
  },
  {
   "cell_type": "markdown",
   "metadata": {},
   "source": [
    "Making a new Header and assigning values"
   ]
  },
  {
   "cell_type": "code",
   "execution_count": 7,
   "metadata": {},
   "outputs": [
    {
     "name": "stdout",
     "output_type": "stream",
     "text": [
      "Mnemonic =  \n",
      "Unit =  \n",
      "Data =  \n",
      "Desription = \n",
      "\n",
      "h after setting the values: \n",
      "\n",
      "Mnemonic = test \n",
      "Unit = test_unit \n",
      "Data = 55555 \n",
      "Desription = This is a test Header\n"
     ]
    }
   ],
   "source": [
    "h = ml.Header()\n",
    "print(h)\n",
    "h.Mnemonic = \"test\"\n",
    "h.Unit = \"test_unit\"\n",
    "h.Data = \"55555\"\n",
    "h.Description = \"This is a test Header\"\n",
    "print(\"\\nh after setting the values: \\n\")\n",
    "print(h)"
   ]
  },
  {
   "cell_type": "markdown",
   "metadata": {},
   "source": [
    "Reading a header using Header class"
   ]
  },
  {
   "cell_type": "code",
   "execution_count": 8,
   "metadata": {},
   "outputs": [
    {
     "name": "stdout",
     "output_type": "stream",
     "text": [
      "Mnemonic = VERS \n",
      "Unit = none \n",
      "Data = 2.0 \n",
      "Desription = CWLS LAS-VERSION 2.0\n"
     ]
    }
   ],
   "source": [
    "new_header = ml.Header(\"VERS. \t\t\t2.0 \t\t\t\t\t\t\t\t\t\t\t: CWLS LAS-VERSION 2.0\")\n",
    "print(new_header)"
   ]
  },
  {
   "cell_type": "markdown",
   "metadata": {},
   "source": [
    "Reading Log data for the well"
   ]
  },
  {
   "cell_type": "code",
   "execution_count": 9,
   "metadata": {},
   "outputs": [],
   "source": [
    "well.ReadLogs()"
   ]
  },
  {
   "cell_type": "markdown",
   "metadata": {},
   "source": [
    "Accessing Log data and printing "
   ]
  },
  {
   "cell_type": "code",
   "execution_count": 10,
   "metadata": {},
   "outputs": [
    {
     "name": "stdout",
     "output_type": "stream",
     "text": [
      "<class 'numpy.ndarray'>\n",
      "[2256. 2256.]\n"
     ]
    }
   ],
   "source": [
    "log = well.Logs[1].Data\n",
    "print(type(log))\n",
    "print(log)"
   ]
  },
  {
   "cell_type": "markdown",
   "metadata": {},
   "source": [
    "Using `numpy.ndarray` style indexing to access log data"
   ]
  },
  {
   "cell_type": "code",
   "execution_count": 11,
   "metadata": {},
   "outputs": [
    {
     "name": "stdout",
     "output_type": "stream",
     "text": [
      "[2256. 2256.]\n"
     ]
    }
   ],
   "source": [
    "log = well.Logs[1][:]\n",
    "print(log)"
   ]
  },
  {
   "cell_type": "markdown",
   "metadata": {},
   "source": [
    "Creating a Log"
   ]
  },
  {
   "cell_type": "code",
   "execution_count": 12,
   "metadata": {},
   "outputs": [
    {
     "name": "stdout",
     "output_type": "stream",
     "text": [
      "Mnemonic = CUST \n",
      "Unit = U \n",
      "Data = 00000 \n",
      "Desription = Custom Log\n"
     ]
    }
   ],
   "source": [
    "Log1 = ml.Log()\n",
    "Log1.Name = \"Custom Log\"\n",
    "Log1.Header = ml.Header(\"CUST.U      00000 : Custom Log \")\n",
    "Log1.Data = well.Logs[2].Data\n",
    "print(Log1.Header)"
   ]
  },
  {
   "cell_type": "markdown",
   "metadata": {},
   "source": [
    "Assignment to `Log` object"
   ]
  },
  {
   "cell_type": "code",
   "execution_count": 13,
   "metadata": {},
   "outputs": [
    {
     "name": "stdout",
     "output_type": "stream",
     "text": [
      "Mnemonic = MSFL \n",
      "Unit = OHMM \n",
      "Data =  \n",
      "Desription = Rxo RESISTIVITY\n"
     ]
    }
   ],
   "source": [
    "Log1 = well.Logs[3]\n",
    "print(Log1.Header)"
   ]
  },
  {
   "cell_type": "markdown",
   "metadata": {},
   "source": [
    "Printing Curve Info Block Header objects"
   ]
  },
  {
   "cell_type": "code",
   "execution_count": 14,
   "metadata": {},
   "outputs": [
    {
     "name": "stdout",
     "output_type": "stream",
     "text": [
      "Mnemonic = DEPT \n",
      "Unit = M \n",
      "Data =  \n",
      "Desription = DEPTH\n",
      "Mnemonic = RHOB \n",
      "Unit = K/M3 \n",
      "Data =  \n",
      "Desription = BULK DENSITY\n",
      "Mnemonic = NPHI \n",
      "Unit = VOL/VOL \n",
      "Data =  \n",
      "Desription = NEUTRON POROSITY - SANDSTONE\n",
      "Mnemonic = MSFL \n",
      "Unit = OHMM \n",
      "Data =  \n",
      "Desription = Rxo RESISTIVITY\n",
      "Mnemonic = SFLA \n",
      "Unit = OHMM \n",
      "Data =  \n",
      "Desription = SHALLOW RESISTIVITY\n",
      "Mnemonic = ILM \n",
      "Unit = OHMM \n",
      "Data =  \n",
      "Desription = MEDIUM RESISTIVITY\n",
      "Mnemonic = ILD \n",
      "Unit = OHMM \n",
      "Data =  \n",
      "Desription = DEEP RESISTIVITY\n",
      "Mnemonic = SP \n",
      "Unit = MV \n",
      "Data =  \n",
      "Desription = SPONTANEOUS POTENTIAL\n"
     ]
    }
   ],
   "source": [
    "for i in well.CurveInfo:\n",
    "    print(i)"
   ]
  },
  {
   "cell_type": "code",
   "execution_count": 15,
   "metadata": {},
   "outputs": [],
   "source": [
    "well2 = ml.Well(\"Example2.LAS\")"
   ]
  },
  {
   "cell_type": "markdown",
   "metadata": {},
   "source": [
    "Comparing to loaded object UWI"
   ]
  },
  {
   "cell_type": "code",
   "execution_count": 16,
   "metadata": {},
   "outputs": [
    {
     "name": "stdout",
     "output_type": "stream",
     "text": [
      "False\n",
      "100123401234W500\n",
      "100123401234W520\n"
     ]
    }
   ],
   "source": [
    "print(well.UWI==well2.UWI)\n",
    "print(well.UWI)\n",
    "print(well2.UWI)"
   ]
  },
  {
   "cell_type": "code",
   "execution_count": null,
   "metadata": {},
   "outputs": [],
   "source": []
  }
 ],
 "metadata": {
  "kernelspec": {
   "display_name": "Python 3",
   "language": "python",
   "name": "python3"
  },
  "language_info": {
   "codemirror_mode": {
    "name": "ipython",
    "version": 3
   },
   "file_extension": ".py",
   "mimetype": "text/x-python",
   "name": "python",
   "nbconvert_exporter": "python",
   "pygments_lexer": "ipython3",
   "version": "3.8.2"
  }
 },
 "nbformat": 4,
 "nbformat_minor": 4
}
